{
 "cells": [
  {
   "cell_type": "code",
   "execution_count": 1,
   "id": "f9c59392",
   "metadata": {},
   "outputs": [],
   "source": [
    "# Import libraries\n",
    "\n",
    "import pandas as pd\n",
    "from selenium import webdriver\n",
    "from webdriver_manager.chrome import ChromeDriverManager\n",
    "import time"
   ]
  },
  {
   "cell_type": "code",
   "execution_count": 2,
   "id": "edf51803",
   "metadata": {},
   "outputs": [
    {
     "name": "stdout",
     "output_type": "stream",
     "text": [
      "Requirement already satisfied: webdriver-manager in /Users/alexmendezsomoza/opt/miniconda3/lib/python3.9/site-packages (3.4.1)\n",
      "Requirement already satisfied: crayons in /Users/alexmendezsomoza/opt/miniconda3/lib/python3.9/site-packages (from webdriver-manager) (0.4.0)\n",
      "Requirement already satisfied: requests in /Users/alexmendezsomoza/opt/miniconda3/lib/python3.9/site-packages (from webdriver-manager) (2.25.0)\n",
      "Requirement already satisfied: configparser in /Users/alexmendezsomoza/opt/miniconda3/lib/python3.9/site-packages (from webdriver-manager) (5.0.2)\n",
      "Requirement already satisfied: colorama in /Users/alexmendezsomoza/opt/miniconda3/lib/python3.9/site-packages (from crayons->webdriver-manager) (0.4.4)\n",
      "Requirement already satisfied: certifi>=2017.4.17 in /Users/alexmendezsomoza/opt/miniconda3/lib/python3.9/site-packages (from requests->webdriver-manager) (2020.12.5)\n",
      "Requirement already satisfied: idna<3,>=2.5 in /Users/alexmendezsomoza/opt/miniconda3/lib/python3.9/site-packages (from requests->webdriver-manager) (2.10)\n",
      "Requirement already satisfied: chardet<4,>=3.0.2 in /Users/alexmendezsomoza/opt/miniconda3/lib/python3.9/site-packages (from requests->webdriver-manager) (3.0.4)\n",
      "Requirement already satisfied: urllib3<1.27,>=1.21.1 in /Users/alexmendezsomoza/opt/miniconda3/lib/python3.9/site-packages (from requests->webdriver-manager) (1.25.11)\n"
     ]
    },
    {
     "name": "stderr",
     "output_type": "stream",
     "text": [
      "\n",
      "\n",
      "====== WebDriver manager ======\n",
      "Current google-chrome version is 95.0.4638\n",
      "Get LATEST driver version for 95.0.4638\n",
      "Driver [/Users/alexmendezsomoza/.wdm/drivers/chromedriver/mac64/95.0.4638.54/chromedriver] found in cache\n"
     ]
    }
   ],
   "source": [
    "!pip install webdriver-manager\n",
    "\n",
    "from webdriver_manager.chrome import ChromeDriverManager\n",
    "\n",
    "webdriver.Chrome(ChromeDriverManager().install()).get('https://www.google.es')"
   ]
  },
  {
   "cell_type": "code",
   "execution_count": 4,
   "id": "072261a0",
   "metadata": {},
   "outputs": [
    {
     "name": "stderr",
     "output_type": "stream",
     "text": [
      "\n",
      "\n",
      "====== WebDriver manager ======\n",
      "Current google-chrome version is 95.0.4638\n",
      "Get LATEST driver version for 95.0.4638\n",
      "Driver [/Users/alexmendezsomoza/.wdm/drivers/chromedriver/mac64/95.0.4638.54/chromedriver] found in cache\n"
     ]
    }
   ],
   "source": [
    "PATH= ChromeDriverManager().install()\n",
    "\n",
    "url = 'https://www.idealista.com/inmueble/86271796/'"
   ]
  },
  {
   "cell_type": "markdown",
   "id": "2362ec04",
   "metadata": {},
   "source": [
    "Se puede buscar por: \n",
    "\n",
    "- Class name:  driver.find_elements_by_class_name('')\n",
    "- Tag name: driver.find_elements_by_tag_name('')\n",
    "- Element: driver.find_element_by_id('')\n",
    "- XPATCH: driver.find_element_by_xpath('')"
   ]
  },
  {
   "cell_type": "markdown",
   "id": "e6feda8e",
   "metadata": {},
   "source": [
    "What kind of data do I need? \n",
    "\n",
    "- Nombre\n",
    "- Zona\n",
    "- Precio\n",
    "- Precio por m2\n",
    "- Metro cuadrado\n",
    "- nº habitaciones\n",
    "- Planta\n",
    "- Plano?\n",
    "- Características básicas\n",
    "- Edificio\n",
    "- Equipamiento\n",
    "- Inmobiliaria\n",
    "- Contacto\n",
    "\n"
   ]
  },
  {
   "cell_type": "markdown",
   "id": "0f2ca5ea",
   "metadata": {},
   "source": [
    "from selenium.webdriver.chrome.options import Options\n",
    "\n",
    "# opciones del webdriver\n",
    "\n",
    "opciones=Options()\n",
    "\n",
    "opciones.add_experimental_option('excludeSwitches', ['enable-automation'])\n",
    "opciones.add_experimental_option('useAutomationExtension', False)\n",
    "\n",
    "opciones.headless=False    # si True, no aperece la ventana (headless=no visible)\n",
    "\n",
    "opciones.add_argument('--start-maximized')         # comienza maximizado\n",
    "\n",
    "\n",
    "opciones.add_argument('user-data-dir=selenium')    # mantiene las cookies\n",
    "\n",
    "opciones.add_extension('driver/adblock.crx')       # adblocker"
   ]
  },
  {
   "cell_type": "code",
   "execution_count": 7,
   "id": "d4067cdb",
   "metadata": {},
   "outputs": [
    {
     "ename": "NameError",
     "evalue": "name 'Options' is not defined",
     "output_type": "error",
     "traceback": [
      "\u001b[0;31m---------------------------------------------------------------------------\u001b[0m",
      "\u001b[0;31mNameError\u001b[0m                                 Traceback (most recent call last)",
      "\u001b[0;32m<ipython-input-7-5a998fa4b957>\u001b[0m in \u001b[0;36m<module>\u001b[0;34m\u001b[0m\n\u001b[1;32m      5\u001b[0m \u001b[0mdriver\u001b[0m\u001b[0;34m.\u001b[0m\u001b[0mget\u001b[0m\u001b[0;34m(\u001b[0m\u001b[0murl\u001b[0m\u001b[0;34m)\u001b[0m\u001b[0;34m\u001b[0m\u001b[0;34m\u001b[0m\u001b[0m\n\u001b[1;32m      6\u001b[0m \u001b[0;34m\u001b[0m\u001b[0m\n\u001b[0;32m----> 7\u001b[0;31m \u001b[0mopciones\u001b[0m\u001b[0;34m=\u001b[0m\u001b[0mOptions\u001b[0m\u001b[0;34m(\u001b[0m\u001b[0;34m)\u001b[0m\u001b[0;34m\u001b[0m\u001b[0;34m\u001b[0m\u001b[0m\n\u001b[0m\u001b[1;32m      8\u001b[0m \u001b[0;34m\u001b[0m\u001b[0m\n\u001b[1;32m      9\u001b[0m \u001b[0mopciones\u001b[0m\u001b[0;34m.\u001b[0m\u001b[0mheadless\u001b[0m\u001b[0;34m=\u001b[0m\u001b[0;32mTrue\u001b[0m\u001b[0;34m\u001b[0m\u001b[0;34m\u001b[0m\u001b[0m\n",
      "\u001b[0;31mNameError\u001b[0m: name 'Options' is not defined"
     ]
    }
   ],
   "source": [
    "# Starting\n",
    "\n",
    "driver = webdriver.Chrome(PATH)\n",
    "\n",
    "driver.get(url)\n"
   ]
  },
  {
   "cell_type": "code",
   "execution_count": null,
   "id": "b928b0c5",
   "metadata": {},
   "outputs": [],
   "source": []
  }
 ],
 "metadata": {
  "kernelspec": {
   "display_name": "clase",
   "language": "python",
   "name": "clase"
  },
  "language_info": {
   "codemirror_mode": {
    "name": "ipython",
    "version": 3
   },
   "file_extension": ".py",
   "mimetype": "text/x-python",
   "name": "python",
   "nbconvert_exporter": "python",
   "pygments_lexer": "ipython3",
   "version": "3.8.8"
  }
 },
 "nbformat": 4,
 "nbformat_minor": 5
}
